{
 "cells": [
  {
   "cell_type": "code",
   "execution_count": 6,
   "metadata": {
    "collapsed": false
   },
   "outputs": [
    {
     "data": {
      "text/html": [
       "<p>Here we tested two different cases for the Bodrum Earthquake. The first case represents \n",
       "if the vault was north dipping (ND) and the second case is for the south dipping (SD). \n",
       "Two different cases lead to two different initial tsunami patterns.</p> "
      ],
      "text/plain": [
       "<IPython.core.display.HTML object>"
      ]
     },
     "metadata": {},
     "output_type": "display_data"
    }
   ],
   "source": [
    "%%html\n",
    "<p>Here we tested two different cases for the Bodrum Earthquake. The first case represents \n",
    "if the vault was north dipping (ND) and the second case is for the south dipping (SD). \n",
    "Two different cases lead to two different initial tsunami patterns.</p> \n"
   ]
  },
  {
   "cell_type": "code",
   "execution_count": 7,
   "metadata": {
    "collapsed": false
   },
   "outputs": [
    {
     "data": {
      "text/html": [
       "<p>The first figure below shows the initial condition of the north dipping case. </p>\n",
       "![Bodrum-Tsunami-ND-initial-conditions](/../img/figs/Bodrum_ssh_2d_ND_wetdry0001.png){:class=\"img-responsive\"} "
      ],
      "text/plain": [
       "<IPython.core.display.HTML object>"
      ]
     },
     "metadata": {},
     "output_type": "display_data"
    }
   ],
   "source": [
    "%%html\n",
    "<p>The first figure below shows the initial condition of the north dipping case. </p>\n",
    "![Bodrum-Tsunami-ND-initial-conditions](/../img/figs/Bodrum_ssh_2d_ND_wetdry0001.png){:class=\"img-responsive\"} "
   ]
  },
  {
   "cell_type": "code",
   "execution_count": 8,
   "metadata": {
    "collapsed": false
   },
   "outputs": [
    {
     "data": {
      "text/html": [
       "<p>The second figure shows the initial condition of the south dipping case. </p>\n",
       "![Bodrum-Tsunami-ND-initial-conditions](/../img/figs/Bodrum_ssh_2d_SD_wetdry0001.png){:class=\"img-responsive\"} "
      ],
      "text/plain": [
       "<IPython.core.display.HTML object>"
      ]
     },
     "metadata": {},
     "output_type": "display_data"
    }
   ],
   "source": [
    "%%html\n",
    "<p>The second figure shows the initial condition of the south dipping case. </p>\n",
    "![Bodrum-Tsunami-ND-initial-conditions](/../img/figs/Bodrum_ssh_2d_SD_wetdry0001.png){:class=\"img-responsive\"} "
   ]
  },
  {
   "cell_type": "code",
   "execution_count": 9,
   "metadata": {
    "collapsed": false
   },
   "outputs": [
    {
     "data": {
      "text/html": [
       "<p>The first movie shows the evolution of the ND wave. \n",
       "The wet areas on the land are displayed in different colors (red if the wave is larger than \n",
       "1 meter, green if the wave is between 0.6 and 1, and cyan if the wave is between 0 and 0.3 meter). </p>\n",
       "![Bodrum-Tsunami-whole-domain](/../img/movies/Bodrum_Tsunami_ND_2D_wetdry_zoom_domain.gif){:class=\"img-responsive\"} \n",
       "<p>In the second movie, evolution of the SD tsunami can be seen. </p>\n",
       "![Bodrum-Tsunami-zoom-domain](/../img/movies/Bodrum_Tsunami_SD_2D_wetdry_zoom_domain.gif){:class=\"img-responsive\"} "
      ],
      "text/plain": [
       "<IPython.core.display.HTML object>"
      ]
     },
     "metadata": {},
     "output_type": "display_data"
    }
   ],
   "source": [
    "%%html\n",
    "<p>The first movie shows the evolution of the ND wave. \n",
    "The wet areas on the land are displayed in different colors (red if the wave is larger than \n",
    "1 meter, green if the wave is between 0.6 and 1, and cyan if the wave is between 0 and 0.3 meter). </p>\n",
    "![Bodrum-Tsunami-whole-domain](/../img/movies/Bodrum_Tsunami_ND_2D_wetdry_zoom_domain.gif){:class=\"img-responsive\"} \n",
    "<p>In the second movie, evolution of the SD tsunami can be seen. </p>\n",
    "![Bodrum-Tsunami-zoom-domain](/../img/movies/Bodrum_Tsunami_SD_2D_wetdry_zoom_domain.gif){:class=\"img-responsive\"} "
   ]
  },
  {
   "cell_type": "code",
   "execution_count": null,
   "metadata": {
    "collapsed": true
   },
   "outputs": [],
   "source": []
  }
 ],
 "metadata": {
  "anaconda-cloud": {},
  "kernelspec": {
   "display_name": "Python [default]",
   "language": "python",
   "name": "python2"
  },
  "language_info": {
   "codemirror_mode": {
    "name": "ipython",
    "version": 2
   },
   "file_extension": ".py",
   "mimetype": "text/x-python",
   "name": "python",
   "nbconvert_exporter": "python",
   "pygments_lexer": "ipython2",
   "version": "2.7.12"
  }
 },
 "nbformat": 4,
 "nbformat_minor": 1
}
