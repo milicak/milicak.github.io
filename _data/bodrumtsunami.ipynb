{
 "cells": [
  {
   "cell_type": "code",
   "execution_count": 32,
   "metadata": {
    "collapsed": false
   },
   "outputs": [
    {
     "data": {
      "text/html": [
       "<p>The domain is between 25$^\\circ$E to 28$^\\circ$E and 35$^\\circ$N to 38$^\\circ$N. Total grid points are 1400x1500 points in x-and y-directions respectively.\n",
       "   The grid spacing is approximately 250 meter in both directions. There is 1   \n",
       "isopycnic layer in GOLD with RK3 time method and PPM continuity. No Laplacian   \n",
       "or Biharmonic viscosity used in the simulation.</p> \n",
       "\n",
       "<p> Initially there is a gaussian wave ($h_{initial}$) with a maximum thickness of 5 meter at the center of the earthquake which is located at $lon_c=$27.415$^\\circ$E and $lat_c=$36.923$^\\circ$N.\n",
       "The initial condition of the wave is the following</p>     "
      ],
      "text/plain": [
       "<IPython.core.display.HTML object>"
      ]
     },
     "metadata": {},
     "output_type": "display_data"
    }
   ],
   "source": [
    "%%html\n",
    "<p>The domain is between 25$^\\circ$E to 28$^\\circ$E and 35$^\\circ$N to 38$^\\circ$N. Total grid points are 1400x1500 points in x-and y-directions respectively.\n",
    "   The grid spacing is approximately 250 meter in both directions. There is 1   \n",
    "isopycnic layer in GOLD with RK3 time method and PPM continuity. No Laplacian   \n",
    "or Biharmonic viscosity used in the simulation.</p> \n",
    "\n",
    "<p> Initially there is a gaussian wave ($h_{initial}$) with a maximum thickness of 5 meter at the center of the earthquake which is located at $lon_c=$27.415$^\\circ$E and $lat_c=$36.923$^\\circ$N.\n",
    "The initial condition of the wave is the following</p>     \n"
   ]
  },
  {
   "cell_type": "code",
   "execution_count": 27,
   "metadata": {
    "collapsed": false
   },
   "outputs": [
    {
     "data": {
      "text/html": [
       "<p> Initially there is a gaussian wave ($h_{initial}$) with a maximum thickness of 5 meter at the center of the earthquake which is located at $lon_c=$27.415$^\\circ$E and $lat_c=$36.923$^\\circ$N.</p>     "
      ],
      "text/plain": [
       "<IPython.core.display.HTML object>"
      ]
     },
     "metadata": {},
     "output_type": "display_data"
    }
   ],
   "source": [
    "%%html\n"
   ]
  },
  {
   "cell_type": "code",
   "execution_count": 33,
   "metadata": {
    "collapsed": false
   },
   "outputs": [
    {
     "data": {
      "text/latex": [
       "\\begin{equation}\n",
       "d_1=9.765625\\times 10^{-4}\n",
       "\\end{equation}\n",
       "\\begin{equation}\n",
       "c_1=\\frac{(lon-lon_c)^2+(lat-lat_c)^2}{2\\times d_1}\n",
       "\\end{equation}\n",
       "\\begin{equation}\n",
       "h_{initial}=5\\times e^{-c_1}\n",
       "\\end{equation}"
      ],
      "text/plain": [
       "<IPython.core.display.Latex object>"
      ]
     },
     "metadata": {},
     "output_type": "display_data"
    }
   ],
   "source": [
    "%%latex\n",
    "\\begin{equation}\n",
    "d_1=9.765625\\times 10^{-4}\n",
    "\\end{equation}\n",
    "\\begin{equation}\n",
    "c_1=\\frac{(lon-lon_c)^2+(lat-lat_c)^2}{2\\times d_1}\n",
    "\\end{equation}\n",
    "\\begin{equation}\n",
    "h_{initial}=5\\times e^{-c_1}\n",
    "\\end{equation}\n"
   ]
  },
  {
   "cell_type": "code",
   "execution_count": 38,
   "metadata": {
    "collapsed": false
   },
   "outputs": [
    {
     "data": {
      "text/html": [
       "<p>The first movie below shows the evolution of the wave in the whole domain. </p>\n",
       "![Bodrum-Tsunami-whole-domain](/../img/movies/Bodrum_Tsunami_2D_whole_domain.gif){:class=\"img-responsive\"}  \n",
       "<p>In the second movie, we zoom in around the earthquake area. </p>\n",
       "![Bodrum-Tsunami-zoom-domain](/../img/movies/Bodrum_Tsunami_2D_zoom_domain.gif){:class=\"img-responsive\"} \n",
       "<p>In the third movie, the wet areas on the land are displayed in different colors (red if the wave is larger than 1 meter, \n",
       "green if the wave is between 0.6 and 1, and cyan if the wave is between 0 and 0.3 meter). </p>\n",
       "![Bodrum-Tsunami-wetdryzoom-domain](/../img/movies/Bodrum_Tsunami_2D_wetdry_zoom_domain.gif){:class=\"img-responsive\"}\n",
       "<p>Finally we show the 3D evolution of the tsunami wave, please note that the height of the wave is scaled \n",
       "up in this movie, so that it can be distinguishable compared to the mountains.</p>\n",
       "![Bodrum-Tsunami-3Dzoom-domain](/../img/movies/Bodrum_Tsunami_3D_zoom_domain.gif){:class=\"img-responsive\"}"
      ],
      "text/plain": [
       "<IPython.core.display.HTML object>"
      ]
     },
     "metadata": {},
     "output_type": "display_data"
    }
   ],
   "source": [
    "%%html\n",
    "<p>The first movie below shows the evolution of the wave in the whole domain. </p>\n",
    "![Bodrum-Tsunami-whole-domain](/../img/movies/Bodrum_Tsunami_2D_whole_domain.gif){:class=\"img-responsive\"}  \n",
    "<p>In the second movie, we zoom in around the earthquake area. </p>\n",
    "![Bodrum-Tsunami-zoom-domain](/../img/movies/Bodrum_Tsunami_2D_zoom_domain.gif){:class=\"img-responsive\"} \n",
    "<p>In the third movie, the wet areas on the land are displayed in different colors (red if the wave is larger than 1 meter, \n",
    "green if the wave is between 0.6 and 1, and cyan if the wave is between 0 and 0.3 meter). </p>\n",
    "![Bodrum-Tsunami-wetdryzoom-domain](/../img/movies/Bodrum_Tsunami_2D_wetdry_zoom_domain.gif){:class=\"img-responsive\"}\n",
    "<p>Finally we show the 3D evolution of the tsunami wave, please note that the height of the wave is scaled \n",
    "up in this movie, so that it can be distinguishable compared to the mountains.</p>\n",
    "![Bodrum-Tsunami-3Dzoom-domain](/../img/movies/Bodrum_Tsunami_3D_zoom_domain.gif){:class=\"img-responsive\"}"
   ]
  },
  {
   "cell_type": "code",
   "execution_count": null,
   "metadata": {
    "collapsed": true
   },
   "outputs": [],
   "source": []
  }
 ],
 "metadata": {
  "anaconda-cloud": {},
  "kernelspec": {
   "display_name": "Python [default]",
   "language": "python",
   "name": "python2"
  },
  "language_info": {
   "codemirror_mode": {
    "name": "ipython",
    "version": 2
   },
   "file_extension": ".py",
   "mimetype": "text/x-python",
   "name": "python",
   "nbconvert_exporter": "python",
   "pygments_lexer": "ipython2",
   "version": "2.7.12"
  }
 },
 "nbformat": 4,
 "nbformat_minor": 1
}
