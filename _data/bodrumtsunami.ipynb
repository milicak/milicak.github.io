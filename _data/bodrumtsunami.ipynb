{
 "cells": [
  {
   "cell_type": "code",
   "execution_count": 10,
   "metadata": {
    "collapsed": false
   },
   "outputs": [
    {
     "data": {
      "text/html": [
       "<p>The domain is between 25$^\\circ$E to 28$^\\circ$E and 35$^\\circ$N to 38$^\\circ$N. Total grid points are 1400x1500 points in x-and y-directions respectively.\n",
       "   The grid spacing is approximately 250 meter in both directions. There is 1   \n",
       "isopycnic layer in GOLD with RK3 time method and PPM continuity. No Laplacian   \n",
       "or Biharmonic viscosity used in the simulation.</p> "
      ],
      "text/plain": [
       "<IPython.core.display.HTML object>"
      ]
     },
     "metadata": {},
     "output_type": "display_data"
    }
   ],
   "source": [
    "%%html\n",
    "<p>The domain is between 25$^\\circ$E to 28$^\\circ$E and 35$^\\circ$N to 38$^\\circ$N. Total grid points are 1400x1500 points in x-and y-directions respectively.\n",
    "   The grid spacing is approximately 250 meter in both directions. There is 1   \n",
    "isopycnic layer in GOLD with RK3 time method and PPM continuity. No Laplacian   \n",
    "or Biharmonic viscosity used in the simulation.</p> "
   ]
  },
  {
   "cell_type": "code",
   "execution_count": 12,
   "metadata": {
    "collapsed": false
   },
   "outputs": [
    {
     "data": {
      "text/html": [
       "<p> Initially there is a gaussian wave at the center of the earthquake </p>     \n",
       "![Bodrum-Tsunami-whole-domain](/../img/movies/Bodrum_Tsunami_2D_whole_domain){:class=\"img-responsive\"}  "
      ],
      "text/plain": [
       "<IPython.core.display.HTML object>"
      ]
     },
     "metadata": {},
     "output_type": "display_data"
    }
   ],
   "source": [
    "%%html\n",
    "<p> Initially there is a gaussian wave at the center of the earthquake </p>     \n",
    "![Bodrum-Tsunami-whole-domain](/../img/movies/Bodrum_Tsunami_2D_whole_domain){:class=\"img-responsive\"}  "
   ]
  },
  {
   "cell_type": "code",
   "execution_count": null,
   "metadata": {
    "collapsed": true
   },
   "outputs": [],
   "source": []
  }
 ],
 "metadata": {
  "anaconda-cloud": {},
  "kernelspec": {
   "display_name": "Python [default]",
   "language": "python",
   "name": "python2"
  },
  "language_info": {
   "codemirror_mode": {
    "name": "ipython",
    "version": 2
   },
   "file_extension": ".py",
   "mimetype": "text/x-python",
   "name": "python",
   "nbconvert_exporter": "python",
   "pygments_lexer": "ipython2",
   "version": "2.7.12"
  }
 },
 "nbformat": 4,
 "nbformat_minor": 1
}
