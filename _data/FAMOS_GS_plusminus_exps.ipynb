{
 "cells": [
  {
   "cell_type": "markdown",
   "metadata": {},
   "source": [
    "# Wind forcing experiments\n",
    "We have six different models particapated to the Greenland Sea Gyre wind forcing perturbation protocol.\n",
    "\n",
    "Models used in this study are\n",
    "---------------------\n",
    "1. ITU\n",
    "2. NorESM\n",
    "3. MITB500\n",
    "4. Brest\n",
    "5. FESOM\n",
    "6. AWI\n",
    "\n",
    "The AWI model is semi-fully coupled, and the rest is forced ocean+sea-ice coupled models.\n",
    "The AWI model is not included in the analysis yet, because I would like to understand performance of forced models at first.\n",
    "\n",
    "Mostly, we focus on impacts of wind forcing into the Barents Sea especially in terms of volume/heat transport and sea ice decrease. I only show the time between 1980 to 2009 in all simulations."
   ]
  },
  {
   "cell_type": "code",
   "execution_count": 1,
   "metadata": {},
   "outputs": [
    {
     "data": {
      "text/html": [
       "<p>Figure below shows annual total volume transport anomalies at the Barents Sea Openning (BSO) section. ITU, NorESM, and MITB500 display distinct behaviour between\n",
       "negative and positive wind simulations. The second figure shows the inflow volume transport into the Barens Sea. \n",
       "Both total and inflow transports behave similarly. The FESOM and Brest models change sign in positive anomaly experiments.\n",
       "This needs more investiogation.</p> \n",
       "\n",
       "\n",
       "<iframe width=\"700\" height=\"500\" frameborder=\"0\" scrolling=\"no\" src=\"//plot.ly/~milicak/9.embed?showlink=false\"></iframe>\n",
       "\n",
       "<iframe width=\"700\" height=\"500\" frameborder=\"0\" scrolling=\"no\" src=\"//plot.ly/~milicak/11.embed?showlink=false\"></iframe>"
      ],
      "text/plain": [
       "<IPython.core.display.HTML object>"
      ]
     },
     "metadata": {},
     "output_type": "display_data"
    }
   ],
   "source": [
    "%%html\n",
    "<p>Figure below shows annual total volume transport anomalies at the Barents Sea Openning (BSO) section. ITU, NorESM, and MITB500 display distinct behaviour between\n",
    "negative and positive wind simulations. The second figure shows the inflow volume transport into the Barens Sea. \n",
    "Both total and inflow transports behave similarly. The FESOM and Brest models change sign in positive anomaly experiments.\n",
    "This needs more investiogation.</p> \n",
    "\n",
    "\n",
    "<iframe width=\"700\" height=\"500\" frameborder=\"0\" scrolling=\"no\" src=\"//plot.ly/~milicak/9.embed?showlink=false\"></iframe>\n",
    "\n",
    "<iframe width=\"700\" height=\"500\" frameborder=\"0\" scrolling=\"no\" src=\"//plot.ly/~milicak/11.embed?showlink=false\"></iframe>"
   ]
  },
  {
   "cell_type": "code",
   "execution_count": 2,
   "metadata": {},
   "outputs": [
    {
     "data": {
      "text/html": [
       "<p>Figure below shows annual total heat transport anomalies at the BSO section. It is obvious\n",
       "that heat and volume transports are correlated in all models. The FESOM model is the only one which changes sign.</p> \n",
       "\n",
       "<iframe width=\"700\" height=\"500\" frameborder=\"0\" scrolling=\"no\" src=\"//plot.ly/~milicak/5.embed?showlink=false\"></iframe>\n",
       "\n",
       "<p>Figure below shows annual inflow heat transport anomalies at the BSO section. Once again there is not too much difference\n",
       "between total and inflow heat transports.</p> \n",
       "\n",
       "<iframe width=\"700\" height=\"500\" frameborder=\"0\" scrolling=\"no\" src=\"//plot.ly/~milicak/7.embed?showlink=false\"></iframe>"
      ],
      "text/plain": [
       "<IPython.core.display.HTML object>"
      ]
     },
     "metadata": {},
     "output_type": "display_data"
    }
   ],
   "source": [
    "%%html\n",
    "<p>Figure below shows annual total heat transport anomalies at the BSO section. It is obvious\n",
    "that heat and volume transports are correlated in all models. The FESOM model is the only one which changes sign.</p> \n",
    "\n",
    "<iframe width=\"700\" height=\"500\" frameborder=\"0\" scrolling=\"no\" src=\"//plot.ly/~milicak/5.embed?showlink=false\"></iframe>\n",
    "\n",
    "<p>Figure below shows annual inflow heat transport anomalies at the BSO section. Once again there is not too much difference\n",
    "between total and inflow heat transports.</p> \n",
    "\n",
    "<iframe width=\"700\" height=\"500\" frameborder=\"0\" scrolling=\"no\" src=\"//plot.ly/~milicak/7.embed?showlink=false\"></iframe>\n"
   ]
  },
  {
   "cell_type": "code",
   "execution_count": 5,
   "metadata": {},
   "outputs": [
    {
     "data": {
      "text/html": [
       "<p>Following figure shows the inflow volume anomaly vs inflow heat transport at the BSO section for different models.\n",
       "There is a good agreement and predictibality across models. To me, so far this is one of the strong conclusions.</p> \n",
       "\n",
       "<iframe width=\"700\" height=\"500\" frameborder=\"0\" scrolling=\"no\" src=\"//plot.ly/~milicak/13.embed?showlink=false\"></iframe>\n",
       "\n",
       "<p>Following figure shows the inflow volume anomaly and inflow heat transport as a function of time for only positive simulationsat the BSO section for different models.\n",
       "There is a good agreement and predictibality across models.</p> \n",
       "\n",
       "<iframe width=\"900\" height=\"600\" frameborder=\"0\" scrolling=\"no\" src=\"//plot.ly/~milicak/15.embed?showlink=false\"></iframe>"
      ],
      "text/plain": [
       "<IPython.core.display.HTML object>"
      ]
     },
     "metadata": {},
     "output_type": "display_data"
    }
   ],
   "source": [
    "%%html\n",
    "<p>Following figure shows the inflow volume anomaly vs inflow heat transport at the BSO section for different models.\n",
    "There is a good agreement and predictibality across models. To me, so far this is one of the strong conclusions.</p> \n",
    "\n",
    "<iframe width=\"700\" height=\"500\" frameborder=\"0\" scrolling=\"no\" src=\"//plot.ly/~milicak/13.embed?showlink=false\"></iframe>\n",
    "\n",
    "<p>Following figure shows the inflow volume anomaly and inflow heat transport as a function of time for only positive simulationsat the BSO section for different models.\n",
    "There is a good agreement and predictibality across models.</p> \n",
    "\n",
    "<iframe width=\"900\" height=\"600\" frameborder=\"0\" scrolling=\"no\" src=\"//plot.ly/~milicak/15.embed?showlink=false\"></iframe>"
   ]
  },
  {
   "cell_type": "code",
   "execution_count": 7,
   "metadata": {},
   "outputs": [
    {
     "data": {
      "text/html": [
       "<p>Following two figures display annual Barents Sea sea-ice extent and annual Northern Hemisphere sea-ice extent as a function\n",
       "time, respectively.</p> \n",
       "\n",
       "<iframe width=\"700\" height=\"500\" frameborder=\"0\" scrolling=\"no\" src=\"//plot.ly/~milicak/17.embed?showlink=false\"></iframe>\n",
       "\n",
       "<iframe width=\"700\" height=\"500\" frameborder=\"0\" scrolling=\"no\" src=\"//plot.ly/~milicak/19.embed?showlink=false\"></iframe>"
      ],
      "text/plain": [
       "<IPython.core.display.HTML object>"
      ]
     },
     "metadata": {},
     "output_type": "display_data"
    }
   ],
   "source": [
    "%%html\n",
    "<p>Following two figures display annual Barents Sea sea-ice extent and annual Northern Hemisphere sea-ice extent as a function\n",
    "time, respectively.</p> \n",
    "\n",
    "<iframe width=\"700\" height=\"500\" frameborder=\"0\" scrolling=\"no\" src=\"//plot.ly/~milicak/17.embed?showlink=false\"></iframe>\n",
    "\n",
    "<iframe width=\"700\" height=\"500\" frameborder=\"0\" scrolling=\"no\" src=\"//plot.ly/~milicak/19.embed?showlink=false\"></iframe>"
   ]
  },
  {
   "cell_type": "code",
   "execution_count": 8,
   "metadata": {},
   "outputs": [
    {
     "data": {
      "text/html": [
       "<p>Following figure shows the inflow heat anomaly at the BSO section vs sea-ice extent in Barents Sea for different models.\n",
       "There is a good agreement and predictibality across models. To me, so far this is another one of the strong conclusions.</p> \n",
       "\n",
       "<iframe width=\"700\" height=\"500\" frameborder=\"0\" scrolling=\"no\" src=\"//plot.ly/~milicak/21.embed?showlink=false\"></iframe>\n"
      ],
      "text/plain": [
       "<IPython.core.display.HTML object>"
      ]
     },
     "metadata": {},
     "output_type": "display_data"
    }
   ],
   "source": [
    "%%html\n",
    "<p>Following figure shows the inflow heat anomaly at the BSO section vs sea-ice extent in Barents Sea for different models.\n",
    "There is a good agreement and predictibality across models. To me, so far this is another one of the strong conclusions.</p> \n",
    "\n",
    "<iframe width=\"700\" height=\"500\" frameborder=\"0\" scrolling=\"no\" src=\"//plot.ly/~milicak/21.embed?showlink=false\"></iframe>\n",
    "\n"
   ]
  },
  {
   "cell_type": "code",
   "execution_count": null,
   "metadata": {},
   "outputs": [],
   "source": []
  }
 ],
 "metadata": {
  "anaconda-cloud": {},
  "kernelspec": {
   "display_name": "Python [default]",
   "language": "python",
   "name": "python2"
  },
  "language_info": {
   "codemirror_mode": {
    "name": "ipython",
    "version": 2
   },
   "file_extension": ".py",
   "mimetype": "text/x-python",
   "name": "python",
   "nbconvert_exporter": "python",
   "pygments_lexer": "ipython2",
   "version": "2.7.14"
  }
 },
 "nbformat": 4,
 "nbformat_minor": 1
}
